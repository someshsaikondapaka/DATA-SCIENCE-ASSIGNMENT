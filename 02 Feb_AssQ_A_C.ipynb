{
 "cells": [
  {
   "cell_type": "markdown",
   "id": "8b6ab63a",
   "metadata": {},
   "source": [
    "###         assignment feb-02"
   ]
  },
  {
   "cell_type": "code",
   "execution_count": null,
   "id": "a19249ca",
   "metadata": {},
   "outputs": [],
   "source": [
    "# 1)What are the characteristics of the tuples? Is tuple immutable\n",
    "'''tuple is used to store multiple items in a single variable.A tuple is a collection of data which is ordered,\n",
    "unchangable or immutable and allows duplicate values to store in it'''\n",
    "# ans : tuple is an immutable datatype"
   ]
  },
  {
   "cell_type": "code",
   "execution_count": 4,
   "id": "f8bc7d6c",
   "metadata": {},
   "outputs": [
    {
     "data": {
      "text/plain": [
       "(1, 2, 3, 4, 5, 6, 7, 'sai', [4, 5, 6], 'abc', 'sai')"
      ]
     },
     "execution_count": 4,
     "metadata": {},
     "output_type": "execute_result"
    }
   ],
   "source": [
    "# Example\n",
    "t1 = (1,2,3,4,5,6,7, \"sai\", [4,5,6], \"abc\", \"sai\")\n",
    "t1"
   ]
  },
  {
   "cell_type": "code",
   "execution_count": 2,
   "id": "04db5f54",
   "metadata": {},
   "outputs": [
    {
     "data": {
      "text/plain": [
       "1"
      ]
     },
     "execution_count": 2,
     "metadata": {},
     "output_type": "execute_result"
    }
   ],
   "source": [
    "t1[0]"
   ]
  },
  {
   "cell_type": "code",
   "execution_count": 3,
   "id": "7f968150",
   "metadata": {},
   "outputs": [
    {
     "data": {
      "text/plain": [
       "7"
      ]
     },
     "execution_count": 3,
     "metadata": {},
     "output_type": "execute_result"
    }
   ],
   "source": [
    "t1[6]"
   ]
  },
  {
   "cell_type": "code",
   "execution_count": 5,
   "id": "9c7f7393",
   "metadata": {},
   "outputs": [
    {
     "ename": "TypeError",
     "evalue": "'tuple' object does not support item assignment",
     "output_type": "error",
     "traceback": [
      "\u001b[1;31m---------------------------------------------------------------------------\u001b[0m",
      "\u001b[1;31mTypeError\u001b[0m                                 Traceback (most recent call last)",
      "\u001b[1;32m~\\AppData\\Local\\Temp\\ipykernel_1032\\2195385795.py\u001b[0m in \u001b[0;36m<module>\u001b[1;34m\u001b[0m\n\u001b[1;32m----> 1\u001b[1;33m \u001b[0mt1\u001b[0m\u001b[1;33m[\u001b[0m\u001b[1;36m6\u001b[0m\u001b[1;33m]\u001b[0m \u001b[1;33m=\u001b[0m \u001b[1;36m8\u001b[0m\u001b[1;33m\u001b[0m\u001b[1;33m\u001b[0m\u001b[0m\n\u001b[0m",
      "\u001b[1;31mTypeError\u001b[0m: 'tuple' object does not support item assignment"
     ]
    }
   ],
   "source": [
    "t1[6] = 8"
   ]
  },
  {
   "cell_type": "code",
   "execution_count": null,
   "id": "224475b9",
   "metadata": {},
   "outputs": [],
   "source": [
    "# so, by above operations we can conclude that a tuple is collection of items which is orderd, allows duplicates, immutable"
   ]
  },
  {
   "cell_type": "code",
   "execution_count": null,
   "id": "dc6e5c77",
   "metadata": {},
   "outputs": [],
   "source": [
    "# 2) What are the two tuple methods in python? Give an example of each method. Give a reason why tuples have only two \n",
    "# in-built methods as compared to Lists"
   ]
  },
  {
   "cell_type": "code",
   "execution_count": null,
   "id": "4bb82cca",
   "metadata": {},
   "outputs": [],
   "source": [
    "# ANSWER :\n",
    "# there are only two tuple mrthods one is count() and another is index()"
   ]
  },
  {
   "cell_type": "code",
   "execution_count": 6,
   "id": "2790d797",
   "metadata": {},
   "outputs": [
    {
     "data": {
      "text/plain": [
       "(1, 2, 3, 4, 5, 6, 7, 'sai', [4, 5, 6], 'abc', 'sai')"
      ]
     },
     "execution_count": 6,
     "metadata": {},
     "output_type": "execute_result"
    }
   ],
   "source": [
    "# example for count() method it will count the number of times a value repeating in a tuple\n",
    "t1"
   ]
  },
  {
   "cell_type": "code",
   "execution_count": 8,
   "id": "17d8ac9d",
   "metadata": {},
   "outputs": [
    {
     "data": {
      "text/plain": [
       "2"
      ]
     },
     "execution_count": 8,
     "metadata": {},
     "output_type": "execute_result"
    }
   ],
   "source": [
    "t1.count(\"sai\")"
   ]
  },
  {
   "cell_type": "code",
   "execution_count": 9,
   "id": "7f8691b6",
   "metadata": {},
   "outputs": [
    {
     "data": {
      "text/plain": [
       "2"
      ]
     },
     "execution_count": 9,
     "metadata": {},
     "output_type": "execute_result"
    }
   ],
   "source": [
    "# example for index() method it will give the index of a value in the tuple\n",
    "t1.index(3)"
   ]
  },
  {
   "cell_type": "code",
   "execution_count": 12,
   "id": "71a5555c",
   "metadata": {},
   "outputs": [
    {
     "data": {
      "text/plain": [
       "7"
      ]
     },
     "execution_count": 12,
     "metadata": {},
     "output_type": "execute_result"
    }
   ],
   "source": [
    "t1.index(\"sai\")"
   ]
  },
  {
   "cell_type": "code",
   "execution_count": null,
   "id": "a493a472",
   "metadata": {},
   "outputs": [],
   "source": [
    "# tuples have only two in-built methods since the tuple is immutale and ordered. so there is less possibility for operations."
   ]
  },
  {
   "cell_type": "code",
   "execution_count": null,
   "id": "efc3f53a",
   "metadata": {},
   "outputs": [],
   "source": [
    "''' Q3.  Which collection datatypes in python do not allow duplicate items? Write a code using a set to remove \n",
    "duplicates from the given list.\n",
    "\n",
    "\n",
    "List = [1, 1, 1, 2, 1, 3, 1, 4, 2, 1, 2, 2, 2, 3, 2, 4, 3, 1, 3, 2, 3, 3, 3, 4, 4, 1, 4, 2, 4, 3, 4, 4] '''"
   ]
  },
  {
   "cell_type": "code",
   "execution_count": 13,
   "id": "ba09db18",
   "metadata": {},
   "outputs": [],
   "source": [
    "# ANSWER\n",
    "# set is a non-primitive datatype in python which do not allow duplicate values in it.example follows\n",
    "L = [1, 1, 1, 2, 1, 3, 1, 4, 2, 1, 2, 2, 2, 3, 2, 4, 3, 1, 3, 2, 3, 3, 3, 4, 4, 1, 4, 2, 4, 3, 4, 4]"
   ]
  },
  {
   "cell_type": "code",
   "execution_count": 15,
   "id": "97f2a081",
   "metadata": {},
   "outputs": [
    {
     "data": {
      "text/plain": [
       "[1,\n",
       " 1,\n",
       " 1,\n",
       " 2,\n",
       " 1,\n",
       " 3,\n",
       " 1,\n",
       " 4,\n",
       " 2,\n",
       " 1,\n",
       " 2,\n",
       " 2,\n",
       " 2,\n",
       " 3,\n",
       " 2,\n",
       " 4,\n",
       " 3,\n",
       " 1,\n",
       " 3,\n",
       " 2,\n",
       " 3,\n",
       " 3,\n",
       " 3,\n",
       " 4,\n",
       " 4,\n",
       " 1,\n",
       " 4,\n",
       " 2,\n",
       " 4,\n",
       " 3,\n",
       " 4,\n",
       " 4]"
      ]
     },
     "execution_count": 15,
     "metadata": {},
     "output_type": "execute_result"
    }
   ],
   "source": [
    "L"
   ]
  },
  {
   "cell_type": "code",
   "execution_count": 16,
   "id": "730fbd51",
   "metadata": {},
   "outputs": [
    {
     "data": {
      "text/plain": [
       "{1, 2, 3, 4}"
      ]
     },
     "execution_count": 16,
     "metadata": {},
     "output_type": "execute_result"
    }
   ],
   "source": [
    "set(L)"
   ]
  },
  {
   "cell_type": "code",
   "execution_count": 18,
   "id": "45af1010",
   "metadata": {},
   "outputs": [
    {
     "data": {
      "text/plain": [
       "{1, 2, 3, 4}"
      ]
     },
     "execution_count": 18,
     "metadata": {},
     "output_type": "execute_result"
    }
   ],
   "source": [
    "# using typecasting we have converted list in to a set since do not allow duplicate values so, it removed the duplicate values\n",
    "set(L)"
   ]
  },
  {
   "cell_type": "code",
   "execution_count": null,
   "id": "e6fb31eb",
   "metadata": {},
   "outputs": [],
   "source": [
    "'''Q4. Explain the difference between the union() and update() methods for a set. Give an example of \n",
    "each method.'''"
   ]
  },
  {
   "cell_type": "code",
   "execution_count": 24,
   "id": "f97c9d77",
   "metadata": {},
   "outputs": [],
   "source": [
    "# ANSWER\n",
    "# union() function will unites the two sets without repeating the value.But it will not change the actual values in the sets\n",
    "# this function is used for just operational purpose.\n",
    "s1 = {1,2,3,4,5,6,7,8}\n",
    "s2 = {1,2,3,4,11,12,13,14}"
   ]
  },
  {
   "cell_type": "code",
   "execution_count": 25,
   "id": "7d37f848",
   "metadata": {},
   "outputs": [
    {
     "data": {
      "text/plain": [
       "{1, 2, 3, 4, 5, 6, 7, 8}"
      ]
     },
     "execution_count": 25,
     "metadata": {},
     "output_type": "execute_result"
    }
   ],
   "source": [
    "s1"
   ]
  },
  {
   "cell_type": "code",
   "execution_count": 26,
   "id": "14d1d520",
   "metadata": {},
   "outputs": [
    {
     "data": {
      "text/plain": [
       "{1, 2, 3, 4, 11, 12, 13, 14}"
      ]
     },
     "execution_count": 26,
     "metadata": {},
     "output_type": "execute_result"
    }
   ],
   "source": [
    "s2"
   ]
  },
  {
   "cell_type": "code",
   "execution_count": 27,
   "id": "ba50ef8a",
   "metadata": {},
   "outputs": [
    {
     "data": {
      "text/plain": [
       "{1, 2, 3, 4, 5, 6, 7, 8, 11, 12, 13, 14}"
      ]
     },
     "execution_count": 27,
     "metadata": {},
     "output_type": "execute_result"
    }
   ],
   "source": [
    "s1.union(s2)"
   ]
  },
  {
   "cell_type": "code",
   "execution_count": 30,
   "id": "000d8246",
   "metadata": {},
   "outputs": [
    {
     "data": {
      "text/plain": [
       "{1, 2, 3, 4, 5, 6, 7, 8}"
      ]
     },
     "execution_count": 30,
     "metadata": {},
     "output_type": "execute_result"
    }
   ],
   "source": [
    "# the actual values of the set will not chane after using the union() function\n",
    "s1"
   ]
  },
  {
   "cell_type": "code",
   "execution_count": 31,
   "id": "62b181ab",
   "metadata": {},
   "outputs": [
    {
     "data": {
      "text/plain": [
       "{1, 2, 3, 4, 11, 12, 13, 14}"
      ]
     },
     "execution_count": 31,
     "metadata": {},
     "output_type": "execute_result"
    }
   ],
   "source": [
    "s2"
   ]
  },
  {
   "cell_type": "code",
   "execution_count": 32,
   "id": "80b0cce3",
   "metadata": {},
   "outputs": [],
   "source": [
    "#update() function will add the un-intersected elements to the set() from the another set().this will update the actual \n",
    "#values of set\n",
    "s1.update(s2)"
   ]
  },
  {
   "cell_type": "code",
   "execution_count": 34,
   "id": "d2bd3fe5",
   "metadata": {},
   "outputs": [
    {
     "data": {
      "text/plain": [
       "{1, 2, 3, 4, 5, 6, 7, 8, 11, 12, 13, 14}"
      ]
     },
     "execution_count": 34,
     "metadata": {},
     "output_type": "execute_result"
    }
   ],
   "source": [
    "# some un-intersected values of s2 is added to s1\n",
    "s1"
   ]
  },
  {
   "cell_type": "code",
   "execution_count": 35,
   "id": "73888809",
   "metadata": {},
   "outputs": [
    {
     "data": {
      "text/plain": [
       "{1, 2, 3, 4, 11, 12, 13, 14}"
      ]
     },
     "execution_count": 35,
     "metadata": {},
     "output_type": "execute_result"
    }
   ],
   "source": [
    "s2"
   ]
  },
  {
   "cell_type": "code",
   "execution_count": null,
   "id": "a65198aa",
   "metadata": {},
   "outputs": [],
   "source": [
    "#  Q5. What is a dictionary? Give an example. Also, state whether a dictionary is ordered or unordered."
   ]
  },
  {
   "cell_type": "code",
   "execution_count": 36,
   "id": "950f93f9",
   "metadata": {},
   "outputs": [
    {
     "data": {
      "text/plain": [
       "{'s1': 1, 's2': 2, 's3': 3, 's4': 4}"
      ]
     },
     "execution_count": 36,
     "metadata": {},
     "output_type": "execute_result"
    }
   ],
   "source": [
    "# ANSWER\n",
    "'''dictionary in python is a collection of data with in theclosed curl brackets which consists of two things in each value\n",
    "keys and values unlike other datatypes'''\n",
    "# EXAMPLE\n",
    "d1= {\"s1\":1, \"s2\":2, \"s3\":3, \"s4\":4}\n",
    "d1\n",
    "# as per python version 3.7  dictionary is ordered, changable but it will not allow new duplicate values"
   ]
  },
  {
   "cell_type": "code",
   "execution_count": null,
   "id": "d8c13343",
   "metadata": {},
   "outputs": [],
   "source": [
    "#  Q6. Can we create a nested dictionary? If so, please give an example by creating a simple one-level nested dictionary."
   ]
  },
  {
   "cell_type": "code",
   "execution_count": 38,
   "id": "f6b3464d",
   "metadata": {},
   "outputs": [
    {
     "data": {
      "text/plain": [
       "'criminals'"
      ]
     },
     "execution_count": 38,
     "metadata": {},
     "output_type": "execute_result"
    }
   ],
   "source": [
    "#ANSWER\n",
    "# a dictionary within the dictionary is called nested dictionary which meanse in place of value\n",
    "d2 = {\"a1\":{\"a2\":\"criminals\"}}\n",
    "d2[\"a1\"][\"a2\"]"
   ]
  },
  {
   "cell_type": "code",
   "execution_count": null,
   "id": "89b08256",
   "metadata": {},
   "outputs": [],
   "source": [
    "'''Q7. Using setdefault() method, create key named topics in the given dictionary and also add the value of \n",
    "the key as this list ['Python', 'Machine Learning’, 'Deep Learning']\n",
    "dict1 = {'language' : 'Python', 'course': 'Data Science Masters'}  '''"
   ]
  },
  {
   "cell_type": "code",
   "execution_count": 44,
   "id": "e6ced76c",
   "metadata": {},
   "outputs": [
    {
     "data": {
      "text/plain": [
       "{'language': 'Python',\n",
       " 'course': 'Data Science Masters',\n",
       " 'topics': ['Python', 'Machine Learning', 'Deep Learning']}"
      ]
     },
     "execution_count": 44,
     "metadata": {},
     "output_type": "execute_result"
    }
   ],
   "source": [
    "# ANSWER\n",
    "# by using a setdefault() method we can ad a key and value to the dictionary\n",
    "dict1 = {'language' : 'Python', 'course': 'Data Science Masters'}\n",
    "dict1.setdefault(\"topics\", [\"Python\", \"Machine Learning\", \"Deep Learning\"])\n",
    "dict1"
   ]
  },
  {
   "cell_type": "code",
   "execution_count": 47,
   "id": "c17e3ee3",
   "metadata": {},
   "outputs": [
    {
     "data": {
      "text/plain": [
       "{'language': 'Python',\n",
       " 'course': 'Data Science Masters',\n",
       " 'topics': ['Python', 'Machine Learning', 'Deep Learning'],\n",
       " 'topic': None}"
      ]
     },
     "execution_count": 47,
     "metadata": {},
     "output_type": "execute_result"
    }
   ],
   "source": [
    "#if we used a setdefault() method with only un declared key then it will add the the key in the dictionary without any value \n",
    "dict1.setdefault(\"topic\")\n",
    "dict1"
   ]
  },
  {
   "cell_type": "code",
   "execution_count": null,
   "id": "d21343ef",
   "metadata": {},
   "outputs": [],
   "source": [
    "'''Q8. What are the three view objects in dictionaries? Use the three in-built methods in python to display \n",
    "these three view objects for the given dictionary.'''\n",
    "\n",
    "\n",
    "dict1 = {'Sport': 'Cricket' , 'Teams': ['India', 'Australia', 'England', 'South Africa', 'Sri Lanka', 'New Zealand']}'''"
   ]
  },
  {
   "cell_type": "code",
   "execution_count": 49,
   "id": "d8a7a970",
   "metadata": {},
   "outputs": [
    {
     "data": {
      "text/plain": [
       "{'Sport': 'Cricket',\n",
       " 'Teams': ['India',\n",
       "  'Australia',\n",
       "  'England',\n",
       "  'South Africa',\n",
       "  'Sri Lanka',\n",
       "  'New Zealand']}"
      ]
     },
     "execution_count": 49,
     "metadata": {},
     "output_type": "execute_result"
    }
   ],
   "source": [
    "dict1 = {'Sport': 'Cricket' , 'Teams': ['India', 'Australia', 'England', 'South Africa', 'Sri Lanka', 'New Zealand']}\n",
    "dict1"
   ]
  },
  {
   "cell_type": "code",
   "execution_count": 51,
   "id": "0fa8c607",
   "metadata": {},
   "outputs": [
    {
     "name": "stdout",
     "output_type": "stream",
     "text": [
      "Sport\n",
      "Teams\n"
     ]
    }
   ],
   "source": [
    "# ANSWER\n",
    "# the main view objects of dictionary in python are keys, values, items here keys holds keys, values holds values, and items \n",
    "# holds both pairs of keys and values\n",
    "dict1.keys()\n",
    "for i in dict1.keys():\n",
    "    print(i)"
   ]
  },
  {
   "cell_type": "code",
   "execution_count": 53,
   "id": "0b639d6e",
   "metadata": {},
   "outputs": [
    {
     "name": "stdout",
     "output_type": "stream",
     "text": [
      "Cricket\n",
      "['India', 'Australia', 'England', 'South Africa', 'Sri Lanka', 'New Zealand']\n"
     ]
    }
   ],
   "source": [
    "dict1.values()\n",
    "for i in dict1.values():\n",
    "    print(i)\n"
   ]
  },
  {
   "cell_type": "code",
   "execution_count": 54,
   "id": "6d2b3106",
   "metadata": {},
   "outputs": [
    {
     "data": {
      "text/plain": [
       "dict_items([('Sport', 'Cricket'), ('Teams', ['India', 'Australia', 'England', 'South Africa', 'Sri Lanka', 'New Zealand'])])"
      ]
     },
     "execution_count": 54,
     "metadata": {},
     "output_type": "execute_result"
    }
   ],
   "source": [
    "dict1.items()"
   ]
  },
  {
   "cell_type": "code",
   "execution_count": 55,
   "id": "f28aef5b",
   "metadata": {},
   "outputs": [
    {
     "name": "stdout",
     "output_type": "stream",
     "text": [
      "('Sport', 'Cricket')\n",
      "('Teams', ['India', 'Australia', 'England', 'South Africa', 'Sri Lanka', 'New Zealand'])\n"
     ]
    }
   ],
   "source": [
    "for i in dict1.items():\n",
    "    print(i)"
   ]
  },
  {
   "cell_type": "code",
   "execution_count": null,
   "id": "0f6712d4",
   "metadata": {},
   "outputs": [],
   "source": []
  }
 ],
 "metadata": {
  "kernelspec": {
   "display_name": "Python 3 (ipykernel)",
   "language": "python",
   "name": "python3"
  },
  "language_info": {
   "codemirror_mode": {
    "name": "ipython",
    "version": 3
   },
   "file_extension": ".py",
   "mimetype": "text/x-python",
   "name": "python",
   "nbconvert_exporter": "python",
   "pygments_lexer": "ipython3",
   "version": "3.9.13"
  }
 },
 "nbformat": 4,
 "nbformat_minor": 5
}
